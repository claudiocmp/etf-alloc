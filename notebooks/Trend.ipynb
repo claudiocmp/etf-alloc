{
 "cells": [
  {
   "cell_type": "code",
   "execution_count": null,
   "id": "40ec4381-1faf-4039-8c8f-6aeb2edefab0",
   "metadata": {},
   "outputs": [],
   "source": [
    "import arcticdb as adb\n",
    "import json\n",
    "import numpy as np\n",
    "import pandas as pd\n",
    "import os\n",
    "import matplotlib.pyplot as plt\n",
    "import dtale\n",
    "from sklearn.decomposition import PCA\n",
    "from tradingo import backtest\n",
    "from tradingo.utils import get_instruments, get_config, with_instrument_details"
   ]
  },
  {
   "cell_type": "code",
   "execution_count": null,
   "id": "0c23f225-6ebc-4300-8a58-a4bba9351b8b",
   "metadata": {},
   "outputs": [],
   "source": [
    "import logging\n",
    "logging.getLogger(\"tradingo.backtest\").setLevel(logging.INFO)"
   ]
  },
  {
   "cell_type": "code",
   "execution_count": null,
   "id": "93047f8e-0036-444d-a0ec-e3589e037c6d",
   "metadata": {},
   "outputs": [],
   "source": [
    "a = adb.Arctic(\"lmdb:///home/rory/dev/airflow/test/arctic.db\")\n",
    "signals = a.get_library(\"MODEL_SIGNALS\")\n",
    "backtests = a.get_library(\"BACKTEST\")\n",
    "prices = a.get_library(\"ASSET_PRICES\")\n",
    "portfolios = a.get_library(\"PORTFOLIO\")"
   ]
  },
  {
   "cell_type": "code",
   "execution_count": null,
   "id": "67375525-05f9-4f05-bca5-ab9a4e8ee0ef",
   "metadata": {},
   "outputs": [],
   "source": [
    "instruments = get_instruments(get_config())\n",
    "\n",
    "orig_prices = prices.read(\"ETFT.ADJ_CLOSE.yfinance\")\n",
    "start_dates = orig_prices.data.apply(lambda i: i.first_valid_index()).rename(\"start_date\")\n",
    "instruments = instruments.merge(start_dates, left_index=True, right_index=True, how='left')"
   ]
  },
  {
   "cell_type": "code",
   "execution_count": null,
   "id": "ffd72512-3f20-4bf7-a92a-5dde5a9ae493",
   "metadata": {},
   "outputs": [],
   "source": [
    "PRICES = with_instrument_details((orig_prices.data[\n",
    "                instruments[(instruments.start_date < pd.Timestamp(\"2018-03-01\"))].index\n",
    "          ]).dropna(), instruments, columns=[\"Asset Class\"])\n",
    "RETURNS = np.log(PRICES/PRICES.shift()).dropna()\n",
    "ORIG_PRICES = prices.read(\"ETFT.CLOSE.yfinance\").data"
   ]
  },
  {
   "cell_type": "code",
   "execution_count": null,
   "id": "751b7bdc-7343-46b4-b45a-85b5ada51834",
   "metadata": {},
   "outputs": [],
   "source": [
    "bt = backtest.backtest(start_date=pd.Timestamp(\"2018-01-01 00:00:00+00:00\"), end_date=pd.Timestamp.now(\"utc\"), name=\"trend\", stage=\"RAW\", config_name=\"ETFT\", provider=\"yfinance\", dry_run=True)"
   ]
  },
  {
   "cell_type": "code",
   "execution_count": null,
   "id": "48ff920a-f141-40d2-9772-d82ecd5764db",
   "metadata": {},
   "outputs": [],
   "source": [
    "(np.sqrt(260) * ((1+prices.read(\"ETFT.ADJ_CLOSE.yfinance\").data.pct_change()).prod(axis=1).pow(1/398) - 1).ewm(10).std()).plot()"
   ]
  },
  {
   "cell_type": "code",
   "execution_count": null,
   "id": "0ef13131-5a71-48ed-9e77-1f818797c9cb",
   "metadata": {},
   "outputs": [],
   "source": [
    "from tradingo import portfolio\n",
    "\n",
    "ivol = portfolio.instrument_ivol(start_date=pd.Timestamp(\"2020-01-01\"), end_date=pd.Timestamp.now(), provider=\"yfinance\", config_name=\"ETFT\", dry_run=True)\n",
    "ivol"
   ]
  },
  {
   "cell_type": "code",
   "execution_count": null,
   "id": "bc411e6e-3c31-48f5-ad21-162f361f778c",
   "metadata": {},
   "outputs": [],
   "source": [
    "prices.read(\"ETFT.IVOL.yfinance\").data"
   ]
  },
  {
   "cell_type": "code",
   "execution_count": null,
   "id": "b1fc3c29-1acc-4104-adae-dd2e25da551d",
   "metadata": {},
   "outputs": [],
   "source": [
    "top_ivol = ivol.iloc[-1].rename(\"ivol\").sort_values(ascending=False).to_frame().merge(instruments, left_index=True, right_index=True)[[\"ivol\", \"Name\"]].head(40)"
   ]
  },
  {
   "cell_type": "code",
   "execution_count": null,
   "id": "7894ddc2-309e-4203-9dc8-7d8b6f90a464",
   "metadata": {},
   "outputs": [],
   "source": [
    "pxs=prices.read(\"ETFT.ADJ_CLOSE.yfinance\").data[top_ivol.index]\n",
    "# pxs.plot()\n",
    "instruments.loc[top_ivol.index]#.to_csv(\"/home/rory/dev/airflow/trading/universe.csv\")\n",
    "pxs[['IBLC', 'EWZS', 'ITB', 'ETEC', 'BTEK', 'ILIT', 'IRBO']].plot()\n",
    "(top_ivol.ivol * 100)\n"
   ]
  },
  {
   "cell_type": "code",
   "execution_count": null,
   "id": "c2f2d723-2bec-469c-9c1d-cbca73505cfc",
   "metadata": {},
   "outputs": [],
   "source": [
    "vol = lambda uni: (1 - ((1 + uni).prod(axis=1).pow(1 / 100))).ewm(10).std()\n",
    "vol(prices.read(\"ETFT.CLOSE.yfinance\").data.pct_change())"
   ]
  },
  {
   "cell_type": "code",
   "execution_count": null,
   "id": "008e08de-c043-4cc0-8aa9-49c3cfbc6f09",
   "metadata": {},
   "outputs": [],
   "source": [
    "portfolios.read(\"ETFT.trend.RAW.SHARES\").data.diff()\n",
    "prices.read(\"ETFT.CLOSE.yfinance\")"
   ]
  },
  {
   "cell_type": "code",
   "execution_count": null,
   "id": "497646aa-467a-44e4-9f57-d734e9129e34",
   "metadata": {},
   "outputs": [],
   "source": [
    "bt[-1].loc[:,(slice(None), \"total_pnl\")].droplevel(1, axis=1)"
   ]
  },
  {
   "cell_type": "code",
   "execution_count": null,
   "id": "7da923d7-f627-47dd-8e2f-da2e7ddd4532",
   "metadata": {},
   "outputs": [],
   "source": [
    "PRICES.transpose().groupby([\"Asset Class\"]).mean().transpose().plot()\n",
    "(1+RETURNS.loc[:,\"Commodities & Digital Assets\"].transpose().merge(instruments.Name, left_index=True, right_index=True).reset_index(drop=True).set_index([\"Name\"]).transpose()).cumprod().plot()"
   ]
  },
  {
   "cell_type": "code",
   "execution_count": null,
   "id": "99dc70b9-bbc3-4bb8-b4e3-a065345bb01c",
   "metadata": {},
   "outputs": [],
   "source": [
    "bt"
   ]
  },
  {
   "cell_type": "code",
   "execution_count": null,
   "id": "9457da9d-fa67-441e-82a8-afa6aab0d61e",
   "metadata": {},
   "outputs": [],
   "source": [
    "portfolios.list_symbols()"
   ]
  },
  {
   "cell_type": "code",
   "execution_count": null,
   "id": "f72a297a-168a-45c0-84cf-1a17b8d0524d",
   "metadata": {},
   "outputs": [],
   "source": [
    "pd.concat([pd.DataFrame([i.to_dict() for i in j]) for j in bt[-1]], axis=1, keys=trades.columns)"
   ]
  },
  {
   "cell_type": "code",
   "execution_count": null,
   "id": "24e40c86-6819-4d39-8c58-7788dec3c3c3",
   "metadata": {},
   "outputs": [],
   "source": [
    "(portfolios.read(\"ETFT.trend.RAW.SHARES\").data * prices.read(\"ETFT.CLOSE.yfinance\").data).sum(axis=1).plot()"
   ]
  },
  {
   "cell_type": "code",
   "execution_count": null,
   "id": "55041427-78e7-4332-80f8-c699c237a4b6",
   "metadata": {},
   "outputs": [],
   "source": [
    "backtests.read(\"ETFT.trend.PORTFOLIO\").data.total_pnl.plot()"
   ]
  },
  {
   "cell_type": "code",
   "execution_count": null,
   "id": "c5e2b7ac-617a-4fb6-a7f7-110fc81afe90",
   "metadata": {},
   "outputs": [],
   "source": [
    "summary = backtests.read(\"ETFT.trend.PORTFOLIO\").data"
   ]
  },
  {
   "cell_type": "code",
   "execution_count": null,
   "id": "189d4a9b-cc38-4711-b53c-7f0d6a16906e",
   "metadata": {},
   "outputs": [],
   "source": [
    "summary.net_exposure.plot()"
   ]
  },
  {
   "cell_type": "code",
   "execution_count": null,
   "id": "c26ec368-36b5-482f-a80c-b2962a2139ac",
   "metadata": {},
   "outputs": [],
   "source": [
    "pd.concat((signals.read(\"ETFT.trend.RAW.SIGNAL\").data, prices.read(\"ETFT.ADJ_CLOSE.yfinance\").data), axis=1, keys=(\"price\", \"signal\")).loc[:,(slice(None), \"VEGI\")].plot()"
   ]
  },
  {
   "cell_type": "code",
   "execution_count": null,
   "id": "06eaa97f-a8e3-44cb-b05e-ef5acf349d9f",
   "metadata": {},
   "outputs": [],
   "source": [
    "df = pd.concat((prices.read(\"ETFT.ADJ_CLOSE.yfinance\").data,\n",
    "           signals.read(\"ETFT.trend.RAW.SIGNAL\").data,\n",
    "            signals.read(\"ETFT.trend.ewmac_64_32\").data,\n",
    "            signals.read(\"ETFT.trend.ewmac_128_64\").data,\n",
    "               ),\n",
    "               axis=1, keys=(\"PRICE\", \"SIGNAL\", \"ewmac_46_32\", \"ewmac_128_64\")).loc[(slice(None), slice(None))]"
   ]
  },
  {
   "cell_type": "code",
   "execution_count": null,
   "id": "f1d12ac2-abc2-42c3-aea9-fd18e24496e8",
   "metadata": {},
   "outputs": [],
   "source": [
    "from tradingo.plotting import plot_multi"
   ]
  },
  {
   "cell_type": "code",
   "execution_count": null,
   "id": "7d1b9b77-8cf3-4b96-8e7e-23b7233bfe00",
   "metadata": {},
   "outputs": [],
   "source": [
    "plot_multi(df.loc[:,(slice(None), \"AAXJ\")])"
   ]
  },
  {
   "cell_type": "code",
   "execution_count": null,
   "id": "4333db6b-c7fd-4f78-bd0d-21601289ccd9",
   "metadata": {},
   "outputs": [],
   "source": [
    "backtests.list_symbols()"
   ]
  },
  {
   "cell_type": "code",
   "execution_count": null,
   "id": "899be35f-fca8-4f64-831c-273a954d0748",
   "metadata": {},
   "outputs": [],
   "source": [
    "plot_multi(backtests.read('ETFT.trend.PORTFOLIO').data)"
   ]
  },
  {
   "cell_type": "code",
   "execution_count": null,
   "id": "c592ca6b-32b2-48f7-94cb-3df183079fe6",
   "metadata": {},
   "outputs": [],
   "source": [
    "prices.list_symbols"
   ]
  }
 ],
 "metadata": {
  "kernelspec": {
   "display_name": "Python 3 (ipykernel)",
   "language": "python",
   "name": "python3"
  },
  "language_info": {
   "codemirror_mode": {
    "name": "ipython",
    "version": 3
   },
   "file_extension": ".py",
   "mimetype": "text/x-python",
   "name": "python",
   "nbconvert_exporter": "python",
   "pygments_lexer": "ipython3"
  }
 },
 "nbformat": 4,
 "nbformat_minor": 5
}
