{
 "cells": [
  {
   "cell_type": "code",
   "execution_count": null,
   "id": "40ec4381-1faf-4039-8c8f-6aeb2edefab0",
   "metadata": {},
   "outputs": [],
   "source": [
    "import arcticdb as adb\n",
    "import json\n",
    "import numpy as np\n",
    "import pandas as pd\n",
    "import os\n",
    "import matplotlib.pyplot as plt\n",
    "import dtale\n",
    "from sklearn.decomposition import PCA\n",
    "from tradingo.utils import get_instruments, get_config, with_instrument_details"
   ]
  },
  {
   "cell_type": "code",
   "execution_count": null,
   "id": "93047f8e-0036-444d-a0ec-e3589e037c6d",
   "metadata": {},
   "outputs": [],
   "source": [
    "a = adb.Arctic(\"lmdb:///home/rory/dev/airflow/test/arctic.db\")\n",
    "signals = a.get_library(\"MODEL_SIGNALS\")\n",
    "backtests = a.get_library(\"BACKTEST\")\n",
    "prices = a.get_library(\"ASSET_PRICES\")\n",
    "portfolios = a.get_library(\"PORTFOLIO\")"
   ]
  },
  {
   "cell_type": "code",
   "execution_count": null,
   "id": "67375525-05f9-4f05-bca5-ab9a4e8ee0ef",
   "metadata": {},
   "outputs": [],
   "source": [
    "instruments = get_instruments(get_config())\n",
    "\n",
    "orig_prices = prices.read(\"ETFT.ADJ_CLOSE.yfinance\")\n",
    "start_dates = orig_prices.data.apply(lambda i: i.first_valid_index()).rename(\"start_date\")\n",
    "instruments = instruments.merge(start_dates, left_index=True, right_index=True, how='left')"
   ]
  },
  {
   "cell_type": "code",
   "execution_count": null,
   "id": "ffd72512-3f20-4bf7-a92a-5dde5a9ae493",
   "metadata": {},
   "outputs": [],
   "source": [
    "PRICES = with_instrument_details((orig_prices.data[\n",
    "                instruments[(instruments.start_date < pd.Timestamp(\"2018-03-01\"))].index\n",
    "          ]).dropna(), instruments, columns=[\"Asset Class\"])\n",
    "RETURNS = np.log(PRICES/PRICES.shift()).dropna()"
   ]
  },
  {
   "cell_type": "code",
   "execution_count": null,
   "id": "395621a0-0819-4666-89cd-0afee9496648",
   "metadata": {},
   "outputs": [],
   "source": [
    "ORIG_PRICES = prices.read(\"ETFT.CLOSE.yfinance\").data"
   ]
  },
  {
   "cell_type": "code",
   "execution_count": null,
   "id": "7da923d7-f627-47dd-8e2f-da2e7ddd4532",
   "metadata": {},
   "outputs": [],
   "source": [
    "PRICES.transpose().groupby([\"Asset Class\"]).mean().transpose().plot()"
   ]
  },
  {
   "cell_type": "code",
   "execution_count": null,
   "id": "3e3adbb1-aee6-4dd4-b66b-a783f685e58e",
   "metadata": {},
   "outputs": [],
   "source": [
    "(1+RETURNS.loc[:,\"Commodities & Digital Assets\"].transpose().merge(instruments.Name, left_index=True, right_index=True).reset_index(drop=True).set_index([\"Name\"]).transpose()).cumprod().plot()"
   ]
  },
  {
   "cell_type": "code",
   "execution_count": null,
   "id": "bddd7f53-4de3-4075-9798-f4a1a1e46359",
   "metadata": {},
   "outputs": [],
   "source": [
    "pca = PCA()\n",
    "pca.fit(RETURNS)\n",
    "pd.DataFrame(pca.components_, index=RETURNS.columns)\n",
    "df = pd.DataFrame(pca.components_, columns=RETURNS.columns)"
   ]
  },
  {
   "cell_type": "code",
   "execution_count": null,
   "id": "a7afd8ae-4602-4319-a0ec-b8d9b42a804d",
   "metadata": {},
   "outputs": [],
   "source": [
    "signals.list_symbols()"
   ]
  },
  {
   "cell_type": "code",
   "execution_count": null,
   "id": "c9e8fcff-8f28-4a26-9a30-43a8bf633657",
   "metadata": {},
   "outputs": [],
   "source": [
    "signals.read(\"ETFT.trend.ewmac_128_64\").data[\"AIA\"].plot()"
   ]
  },
  {
   "cell_type": "code",
   "execution_count": null,
   "id": "c71f0a9f-5c08-416b-bdf4-03c94857fd0f",
   "metadata": {},
   "outputs": [],
   "source": [
    "raw_prices = prices.read('ETFT.CLOSE.yfinance').data"
   ]
  },
  {
   "cell_type": "code",
   "execution_count": null,
   "id": "ae094067-3297-488e-8b99-48bc610769ac",
   "metadata": {},
   "outputs": [],
   "source": [
    "(trend_positions.div(trend_positions.transpose().sum(), axis=0) * 70_000)/raw_prices"
   ]
  },
  {
   "cell_type": "code",
   "execution_count": null,
   "id": "d72692a2-f232-40a2-92d3-164a966ac92d",
   "metadata": {},
   "outputs": [],
   "source": [
    "(np.sqrt(260) * signals.read(\"ETFT.trend.vol_64\").data[\"USRT\"]).plot()"
   ]
  },
  {
   "cell_type": "code",
   "execution_count": null,
   "id": "f299314e-cff8-4aac-a1fe-e9cd4ab4d0d6",
   "metadata": {},
   "outputs": [],
   "source": []
  },
  {
   "cell_type": "code",
   "execution_count": null,
   "id": "c486025b-ec4a-48eb-9daa-423be1efe530",
   "metadata": {},
   "outputs": [],
   "source": [
    "instruments[instruments[\"Asset Class\"].str.contains(\"Commodit\")]"
   ]
  },
  {
   "cell_type": "code",
   "execution_count": null,
   "id": "6b19fa8b-4aed-407a-82c2-b0b456643277",
   "metadata": {},
   "outputs": [],
   "source": [
    "pf = portfolios.read(\"ETFT.trend.RAW.SHARES\").data"
   ]
  },
  {
   "cell_type": "code",
   "execution_count": null,
   "id": "e3f595bc-a369-4ed4-aff3-79da6d3a43eb",
   "metadata": {},
   "outputs": [],
   "source": [
    "trades = pf.round().diff()\n",
    "\n",
    "position"
   ]
  },
  {
   "cell_type": "code",
   "execution_count": null,
   "id": "313656e7-4254-4710-b32b-acc099ae523b",
   "metadata": {},
   "outputs": [],
   "source": []
  },
  {
   "cell_type": "code",
   "execution_count": null,
   "id": "4d219c34-3bc1-4fb3-87a0-8bdd57f5f657",
   "metadata": {},
   "outputs": [],
   "source": [
    "trades = pf.fillna(0).round() - pf.fillna(0).round().shift()\n",
    "position = trades.cumsum()"
   ]
  },
  {
   "cell_type": "code",
   "execution_count": null,
   "id": "32f77564-4f1a-4013-943a-b6fa010a1e4d",
   "metadata": {},
   "outputs": [],
   "source": [
    "(position * ORIG_PRICES).sum(axis=1) - (trades * ORIG_PRICES).sum(axis=1).cumsum().rename(\"account\").plot()"
   ]
  },
  {
   "cell_type": "code",
   "execution_count": null,
   "id": "024000c2-3321-4a1f-ae19-319e659b70e4",
   "metadata": {},
   "outputs": [],
   "source": [
    "(trades  *ORIG_PRICES).supricesm"
   ]
  },
  {
   "cell_type": "code",
   "execution_count": null,
   "id": "77b6437f-b769-4f9e-afdb-22fba68abd76",
   "metadata": {},
   "outputs": [],
   "source": []
  },
  {
   "cell_type": "code",
   "execution_count": null,
   "id": "a34da7e4-6a74-4f40-94cc-7530bbe72997",
   "metadata": {},
   "outputs": [],
   "source": []
  },
  {
   "cell_type": "code",
   "execution_count": null,
   "id": "751b7bdc-7343-46b4-b45a-85b5ada51834",
   "metadata": {},
   "outputs": [],
   "source": [
    "pf"
   ]
  }
 ],
 "metadata": {
  "kernelspec": {
   "display_name": "Python 3 (ipykernel)",
   "language": "python",
   "name": "python3"
  },
  "language_info": {
   "codemirror_mode": {
    "name": "ipython",
    "version": 3
   },
   "file_extension": ".py",
   "mimetype": "text/x-python",
   "name": "python",
   "nbconvert_exporter": "python",
   "pygments_lexer": "ipython3"
  }
 },
 "nbformat": 4,
 "nbformat_minor": 5
}
