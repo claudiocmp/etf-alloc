{
 "cells": [
  {
   "cell_type": "code",
   "execution_count": null,
   "id": "40ec4381-1faf-4039-8c8f-6aeb2edefab0",
   "metadata": {},
   "outputs": [],
   "source": [
    "import arcticdb as adb\n",
    "import json\n",
    "import numpy as np\n",
    "import pandas as pd\n",
    "import os\n",
    "import matplotlib.pyplot as plt\n",
    "import dtale\n",
    "from sklearn.decomposition import PCA\n",
    "from tradingo.utils import get_instruments, get_config, with_instrument_details"
   ]
  },
  {
   "cell_type": "code",
   "execution_count": null,
   "id": "93047f8e-0036-444d-a0ec-e3589e037c6d",
   "metadata": {},
   "outputs": [],
   "source": [
    "a = adb.Arctic(\"lmdb:///home/rory/dev/airflow/test/arctic.db\")\n",
    "signals = a.get_library(\"MODEL_SIGNALS\")\n",
    "backtests = a.get_library(\"BACKTEST\")\n",
    "prices = a.get_library(\"ASSET_PRICES\")"
   ]
  },
  {
   "cell_type": "code",
   "execution_count": null,
   "id": "67375525-05f9-4f05-bca5-ab9a4e8ee0ef",
   "metadata": {},
   "outputs": [],
   "source": [
    "instruments = get_instruments(get_config())\n",
    "\n",
    "orig_prices = prices.read(\"ETFT.ADJ_CLOSE.yfinance\")\n",
    "start_dates = orig_prices.data.apply(lambda i: i.first_valid_index()).rename(\"start_date\")\n",
    "instruments = instruments.merge(start_dates, left_index=True, right_index=True, how='left')"
   ]
  },
  {
   "cell_type": "code",
   "execution_count": null,
   "id": "ffd72512-3f20-4bf7-a92a-5dde5a9ae493",
   "metadata": {},
   "outputs": [],
   "source": [
    "PRICES = with_instrument_details((orig_prices.data[\n",
    "                instruments[(instruments.start_date < pd.Timestamp(\"2018-03-01\"))].index\n",
    "          ]).dropna(), instruments, columns=[\"Asset Class\"])\n",
    "RETURNS = np.log(PRICES/PRICES.shift()).dropna()"
   ]
  },
  {
   "cell_type": "code",
   "execution_count": null,
   "id": "7da923d7-f627-47dd-8e2f-da2e7ddd4532",
   "metadata": {},
   "outputs": [],
   "source": [
    "PRICES.groupby([\"Asset Class\"], axis=1).mean().plot()"
   ]
  },
  {
   "cell_type": "code",
   "execution_count": null,
   "id": "3e3adbb1-aee6-4dd4-b66b-a783f685e58e",
   "metadata": {},
   "outputs": [],
   "source": [
    "(1+RETURNS.loc[:,\"Commodities & Digital Assets\"].transpose().merge(instruments.Name, left_index=True, right_index=True).reset_index(drop=True).set_index([\"Name\"]).transpose()).cumprod().plot()"
   ]
  },
  {
   "cell_type": "code",
   "execution_count": null,
   "id": "bddd7f53-4de3-4075-9798-f4a1a1e46359",
   "metadata": {},
   "outputs": [],
   "source": [
    "pca = PCA()\n",
    "pca.fit(RETURNS)\n",
    "pd.DataFrame(pca.components_, index=RETURNS.columns)\n",
    "df = pd.DataFrame(pca.components_, columns=RETURNS.columns)"
   ]
  },
  {
   "cell_type": "code",
   "execution_count": null,
   "id": "a7afd8ae-4602-4319-a0ec-b8d9b42a804d",
   "metadata": {},
   "outputs": [],
   "source": [
    "signals.list_symbols()"
   ]
  },
  {
   "cell_type": "code",
   "execution_count": null,
   "id": "c9e8fcff-8f28-4a26-9a30-43a8bf633657",
   "metadata": {},
   "outputs": [],
   "source": [
    "signals.read(\"ETFT.trend.ewmac_64_32\").data"
   ]
  },
  {
   "cell_type": "code",
   "execution_count": null,
   "id": "116d823d-dc97-4b8d-8c79-b87786718c43",
   "metadata": {},
   "outputs": [],
   "source": [
    "dtale.show(backtests.read(\"ETFT.trend.INSTRUMENT_RETURNS\").data)"
   ]
  }
 ],
 "metadata": {
  "kernelspec": {
   "display_name": "Python 3 (ipykernel)",
   "language": "python",
   "name": "python3"
  },
  "language_info": {
   "codemirror_mode": {
    "name": "ipython",
    "version": 3
   },
   "file_extension": ".py",
   "mimetype": "text/x-python",
   "name": "python",
   "nbconvert_exporter": "python",
   "pygments_lexer": "ipython3"
  }
 },
 "nbformat": 4,
 "nbformat_minor": 5
}
