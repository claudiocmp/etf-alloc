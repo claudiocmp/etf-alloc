{
 "cells": [
  {
   "cell_type": "code",
   "execution_count": null,
   "id": "40ec4381-1faf-4039-8c8f-6aeb2edefab0",
   "metadata": {},
   "outputs": [],
   "source": [
    "import arcticdb as adb\n",
    "import json\n",
    "import numpy as np\n",
    "import pandas as pd\n",
    "import os\n",
    "import matplotlib.pyplot as plt\n",
    "import dtale\n",
    "from sklearn.decomposition import PCA\n",
    "from tradingo import backtest\n",
    "from tradingo.utils import get_instruments, get_config, with_instrument_details"
   ]
  },
  {
   "cell_type": "code",
   "execution_count": null,
   "id": "0c23f225-6ebc-4300-8a58-a4bba9351b8b",
   "metadata": {},
   "outputs": [],
   "source": [
    "import logging\n",
    "logging.getLogger(\"tradingo.backtest\").setLevel(logging.INFO)"
   ]
  },
  {
   "cell_type": "code",
   "execution_count": null,
   "id": "93047f8e-0036-444d-a0ec-e3589e037c6d",
   "metadata": {},
   "outputs": [],
   "source": [
    "a = adb.Arctic(\"lmdb:///home/rory/dev/airflow/test/arctic.db\")\n",
    "signals = a.get_library(\"MODEL_SIGNALS\")\n",
    "backtests = a.get_library(\"BACKTEST\")\n",
    "prices = a.get_library(\"ASSET_PRICES\")\n",
    "portfolios = a.get_library(\"PORTFOLIO\")"
   ]
  },
  {
   "cell_type": "code",
   "execution_count": null,
   "id": "67375525-05f9-4f05-bca5-ab9a4e8ee0ef",
   "metadata": {},
   "outputs": [],
   "source": [
    "instruments = get_instruments(get_config())\n",
    "\n",
    "orig_prices = prices.read(\"ETFT.ADJ_CLOSE.yfinance\")\n",
    "start_dates = orig_prices.data.apply(lambda i: i.first_valid_index()).rename(\"start_date\")\n",
    "instruments = instruments.merge(start_dates, left_index=True, right_index=True, how='left')"
   ]
  },
  {
   "cell_type": "code",
   "execution_count": null,
   "id": "ffd72512-3f20-4bf7-a92a-5dde5a9ae493",
   "metadata": {},
   "outputs": [],
   "source": [
    "PRICES = with_instrument_details((orig_prices.data[\n",
    "                instruments[(instruments.start_date < pd.Timestamp(\"2018-03-01\"))].index\n",
    "          ]).dropna(), instruments, columns=[\"Asset Class\"])\n",
    "RETURNS = np.log(PRICES/PRICES.shift()).dropna()\n",
    "ORIG_PRICES = prices.read(\"ETFT.CLOSE.yfinance\").data"
   ]
  },
  {
   "cell_type": "code",
   "execution_count": null,
   "id": "fce30aa9-2137-4fa4-adf1-d7335092b5d7",
   "metadata": {},
   "outputs": [],
   "source": [
    "prices.list_symbols()"
   ]
  },
  {
   "cell_type": "code",
   "execution_count": null,
   "id": "751b7bdc-7343-46b4-b45a-85b5ada51834",
   "metadata": {},
   "outputs": [],
   "source": [
    "pf = portfolios.read('ETFT.trend.RAW.SHARES').data\n",
    "pxs = prices.read('ETFT.CLOSE.yfinance').data\n",
    "bt = backtest.backtest(\n",
    "    prices=pxs,\n",
    "    portfolio=pf,\n",
    "    start_date=pd.Timestamp(\"2018-01-01 00:00:00+00:00\"),\n",
    "    end_date=pd.Timestamp.now(\"utc\"),\n",
    "    name=\"trend\",\n",
    "    stage=\"RAW\",\n",
    "    config_name=\"ETFT\",\n",
    "    provider=\"yfinance\",\n",
    "    dry_run=True\n",
    ")"
   ]
  },
  {
   "cell_type": "code",
   "execution_count": null,
   "id": "cecd7b1f-05a1-47b9-adda-95125aaec8d9",
   "metadata": {},
   "outputs": [],
   "source": []
  },
  {
   "cell_type": "code",
   "execution_count": null,
   "id": "0ef13131-5a71-48ed-9e77-1f818797c9cb",
   "metadata": {},
   "outputs": [],
   "source": [
    "bt[-1][\"AGG\"]"
   ]
  },
  {
   "cell_type": "code",
   "execution_count": null,
   "id": "008e08de-c043-4cc0-8aa9-49c3cfbc6f09",
   "metadata": {},
   "outputs": [],
   "source": [
    "portfolios.read(\"ETFT.trend.RAW.SHARES\").data.diff()\n",
    "prices.read(\"ETFT.CLOSE.yfinance\")"
   ]
  },
  {
   "cell_type": "code",
   "execution_count": null,
   "id": "497646aa-467a-44e4-9f57-d734e9129e34",
   "metadata": {},
   "outputs": [],
   "source": [
    "bt[-1].loc[:,(slice(None), \"total_pnl\")].droplevel(1, axis=1)"
   ]
  },
  {
   "cell_type": "code",
   "execution_count": null,
   "id": "7da923d7-f627-47dd-8e2f-da2e7ddd4532",
   "metadata": {},
   "outputs": [],
   "source": [
    "PRICES.transpose().groupby([\"Asset Class\"]).mean().transpose().plot()\n",
    "(1+RETURNS.loc[:,\"Commodities & Digital Assets\"].transpose().merge(instruments.Name, left_index=True, right_index=True).reset_index(drop=True).set_index([\"Name\"]).transpose()).cumprod().plot()"
   ]
  },
  {
   "cell_type": "code",
   "execution_count": null,
   "id": "99dc70b9-bbc3-4bb8-b4e3-a065345bb01c",
   "metadata": {},
   "outputs": [],
   "source": [
    "bt"
   ]
  },
  {
   "cell_type": "code",
   "execution_count": null,
   "id": "9457da9d-fa67-441e-82a8-afa6aab0d61e",
   "metadata": {},
   "outputs": [],
   "source": [
    "portfolios.list_symbols()"
   ]
  },
  {
   "cell_type": "code",
   "execution_count": null,
   "id": "f72a297a-168a-45c0-84cf-1a17b8d0524d",
   "metadata": {},
   "outputs": [],
   "source": [
    "pd.concat([pd.DataFrame([i.to_dict() for i in j]) for j in bt[-1]], axis=1, keys=trades.columns)"
   ]
  }
 ],
 "metadata": {
  "kernelspec": {
   "display_name": "Python 3 (ipykernel)",
   "language": "python",
   "name": "python3"
  },
  "language_info": {
   "codemirror_mode": {
    "name": "ipython",
    "version": 3
   },
   "file_extension": ".py",
   "mimetype": "text/x-python",
   "name": "python",
   "nbconvert_exporter": "python",
   "pygments_lexer": "ipython3"
  }
 },
 "nbformat": 4,
 "nbformat_minor": 5
}
