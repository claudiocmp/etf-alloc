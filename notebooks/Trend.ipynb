{
 "cells": [
  {
   "cell_type": "code",
   "execution_count": null,
   "id": "40ec4381-1faf-4039-8c8f-6aeb2edefab0",
   "metadata": {},
   "outputs": [],
   "source": [
    "import arcticdb as adb\n",
    "import json\n",
    "import numpy as np\n",
    "import pandas as pd\n",
    "import os\n",
    "from tradingo.utils import get_instruments, get_config, with_instrument_details"
   ]
  },
  {
   "cell_type": "code",
   "execution_count": null,
   "id": "93047f8e-0036-444d-a0ec-e3589e037c6d",
   "metadata": {},
   "outputs": [],
   "source": [
    "a = adb.Arctic(\"lmdb:///home/rory/dev/airflow/test/arctic.db\")"
   ]
  },
  {
   "cell_type": "code",
   "execution_count": null,
   "id": "67375525-05f9-4f05-bca5-ab9a4e8ee0ef",
   "metadata": {},
   "outputs": [],
   "source": [
    "instruments = get_instruments(get_config())\n",
    "\n",
    "orig_prices = a.get_library(\"ASSET_PRICES\").read(\"ETFT.ADJ_CLOSE.yfinance\")\n",
    "start_dates = orig_prices.data.apply(lambda i: i.first_valid_index()).rename(\"start_date\")\n",
    "instruments = instruments.merge(start_dates, left_index=True, right_index=True, how='left')"
   ]
  },
  {
   "cell_type": "code",
   "execution_count": null,
   "id": "ffd72512-3f20-4bf7-a92a-5dde5a9ae493",
   "metadata": {},
   "outputs": [],
   "source": [
    "PRICES = with_instrument_details((orig_prices.data[\n",
    "                instruments[(instruments.start_date < pd.Timestamp(\"2018-03-01\"))].index\n",
    "          ]).dropna(), instruments, columns=[\"Asset Class\"])\n",
    "RETURNS = np.log(PRICES/PRICES.shift()).dropna()"
   ]
  },
  {
   "cell_type": "code",
   "execution_count": null,
   "id": "c9190312-b93f-4478-b69f-b9b379e26249",
   "metadata": {},
   "outputs": [],
   "source": [
    "PRICES.dropna()"
   ]
  },
  {
   "cell_type": "code",
   "execution_count": null,
   "id": "7da923d7-f627-47dd-8e2f-da2e7ddd4532",
   "metadata": {},
   "outputs": [],
   "source": [
    "PRICES.groupby([\"Asset Class\"], axis=1).mean().plot()"
   ]
  },
  {
   "cell_type": "code",
   "execution_count": null,
   "id": "19bac60c-9dd8-4e9e-b785-e053462b0600",
   "metadata": {},
   "outputs": [],
   "source": [
    "instruments"
   ]
  },
  {
   "cell_type": "code",
   "execution_count": null,
   "id": "9ea6f305-7903-44c9-ab94-7315abe4d531",
   "metadata": {},
   "outputs": [],
   "source": [
    "corr = PRICES.pct_change().groupby(\"Asset Class\", axis=1).corr().abs()#.unstack().sort_values()"
   ]
  },
  {
   "cell_type": "code",
   "execution_count": null,
   "id": "3e3adbb1-aee6-4dd4-b66b-a783f685e58e",
   "metadata": {},
   "outputs": [],
   "source": [
    "(1+RETURNS.loc[:,\"Commodities & Digital Assets\"].transpose().merge(instruments.Name, left_index=True, right_index=True).reset_index(drop=True).set_index([\"Name\"]).transpose()).cumprod().plot()"
   ]
  },
  {
   "cell_type": "code",
   "execution_count": null,
   "id": "671367ed-b1b5-4521-b800-1a3cd0e0001e",
   "metadata": {},
   "outputs": [],
   "source": [
    "corr[corr.between(0.3, 0.6)]"
   ]
  },
  {
   "cell_type": "code",
   "execution_count": null,
   "id": "e9e5ef90-593d-4f53-b856-61bd7b187b71",
   "metadata": {},
   "outputs": [],
   "source": [
    "from sklearn.decomposition import PCA"
   ]
  },
  {
   "cell_type": "code",
   "execution_count": null,
   "id": "b4c628fa-a08a-4155-951c-ba184792e8a8",
   "metadata": {},
   "outputs": [],
   "source": [
    "pca = PCA()"
   ]
  },
  {
   "cell_type": "code",
   "execution_count": null,
   "id": "bddd7f53-4de3-4075-9798-f4a1a1e46359",
   "metadata": {},
   "outputs": [],
   "source": [
    "pca.fit(RETURNS)"
   ]
  },
  {
   "cell_type": "code",
   "execution_count": null,
   "id": "dddecb60-5afc-4646-afcd-0d080fb0d398",
   "metadata": {},
   "outputs": [],
   "source": [
    "pd.DataFrame(pca.components_, index=RETURNS.columns)"
   ]
  },
  {
   "cell_type": "code",
   "execution_count": null,
   "id": "4537c050-7dc1-433c-a0f4-73d801e8985f",
   "metadata": {},
   "outputs": [],
   "source": [
    "df = pd.DataFrame(pca.components_, columns=RETURNS.columns)"
   ]
  },
  {
   "cell_type": "code",
   "execution_count": null,
   "id": "db1da656-edcc-48db-80fc-79205fba301d",
   "metadata": {},
   "outputs": [],
   "source": [
    "import matplotlib.pyplot as plt\n"
   ]
  },
  {
   "cell_type": "code",
   "execution_count": null,
   "id": "a7afd8ae-4602-4319-a0ec-b8d9b42a804d",
   "metadata": {},
   "outputs": [],
   "source": []
  },
  {
   "cell_type": "code",
   "execution_count": null,
   "id": "c9e8fcff-8f28-4a26-9a30-43a8bf633657",
   "metadata": {},
   "outputs": [],
   "source": [
    "lib = a.get_library(\"BACKTEST\")"
   ]
  },
  {
   "cell_type": "code",
   "execution_count": null,
   "id": "34ac1a58-94c7-473b-b6b4-28b26cfc9e13",
   "metadata": {},
   "outputs": [],
   "source": [
    "inst_returns = with_instrument_details(lib.read(\"ETFT.trend.INSTRUMENT_RETURNS\").data, instruments=instruments, columns=[\"Asset Class\"])"
   ]
  },
  {
   "cell_type": "code",
   "execution_count": null,
   "id": "dce25d16-b1bf-431f-bc7b-7568b1da25c8",
   "metadata": {},
   "outputs": [],
   "source": [
    "inst_returns"
   ]
  },
  {
   "cell_type": "code",
   "execution_count": null,
   "id": "116d823d-dc97-4b8d-8c79-b87786718c43",
   "metadata": {},
   "outputs": [],
   "source": []
  }
 ],
 "metadata": {
  "kernelspec": {
   "display_name": "Python 3 (ipykernel)",
   "language": "python",
   "name": "python3"
  },
  "language_info": {
   "codemirror_mode": {
    "name": "ipython",
    "version": 3
   },
   "file_extension": ".py",
   "mimetype": "text/x-python",
   "name": "python",
   "nbconvert_exporter": "python",
   "pygments_lexer": "ipython3"
  }
 },
 "nbformat": 4,
 "nbformat_minor": 5
}
